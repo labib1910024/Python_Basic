{
  "nbformat": 4,
  "nbformat_minor": 0,
  "metadata": {
    "colab": {
      "provenance": [],
      "authorship_tag": "ABX9TyMrwADGlBEXqwcJ77BUl755",
      "include_colab_link": true
    },
    "kernelspec": {
      "name": "python3",
      "display_name": "Python 3"
    },
    "language_info": {
      "name": "python"
    }
  },
  "cells": [
    {
      "cell_type": "markdown",
      "metadata": {
        "id": "view-in-github",
        "colab_type": "text"
      },
      "source": [
        "<a href=\"https://colab.research.google.com/github/labib1910024/Python_basic/blob/main/CF_Practice.ipynb\" target=\"_parent\"><img src=\"https://colab.research.google.com/assets/colab-badge.svg\" alt=\"Open In Colab\"/></a>"
      ]
    },
    {
      "cell_type": "code",
      "execution_count": null,
      "metadata": {
        "colab": {
          "base_uri": "https://localhost:8080/"
        },
        "id": "5c5k731ICqi3",
        "outputId": "59ee4860-fb41-4593-e661-9d052fab37c9"
      },
      "outputs": [
        {
          "output_type": "stream",
          "name": "stdout",
          "text": [
            "8\n",
            "ABABB\n",
            "B\n",
            "ABABA\n",
            "A\n",
            "BBBAB\n",
            "B\n",
            "AAAAA\n",
            "A\n",
            "BBBBB\n",
            "B\n",
            "BABAA\n",
            "A\n",
            "AAAAB\n",
            "A\n",
            "BAAAA\n",
            "A\n"
          ]
        }
      ],
      "source": [
        "t = int(input())\n",
        "for _ in range(t):\n",
        "  a = 0\n",
        "  b = 0\n",
        "\n",
        "  str = input()\n",
        "\n",
        "  for char in str :\n",
        "    if char == 'A':\n",
        "     a = a + 1\n",
        "\n",
        "    elif char == 'B':\n",
        "     b = b + 1\n",
        "\n",
        "\n",
        "  if a>b :\n",
        "    print(\"A\")\n",
        "  else:\n",
        "            print(\"B\")\n",
        "\n"
      ]
    },
    {
      "cell_type": "code",
      "source": [
        "t = int(input())\n",
        "for _ in range(t):\n",
        "        a, b, c = map(int, input(\"\").split())\n",
        "\n",
        "        if b > a and c > b:\n",
        "            print(\"STAIR\")\n",
        "        elif b > a and b > c:\n",
        "            print(\"PEAK\")\n",
        "        else:\n",
        "            print(\"NONE\")\n"
      ],
      "metadata": {
        "colab": {
          "base_uri": "https://localhost:8080/"
        },
        "id": "eWXxdjK8ICe7",
        "outputId": "6fe3759e-c436-406d-d0e0-dd2577f101ac"
      },
      "execution_count": null,
      "outputs": [
        {
          "output_type": "stream",
          "name": "stdout",
          "text": [
            "4\n",
            "Enter three integers a, b, and c: 1 2 3\n",
            "STAIR\n",
            "Enter three integers a, b, and c: 2 3 1\n",
            "PEAK\n",
            "Enter three integers a, b, and c: 3 2 1\n",
            "NONE\n",
            "Enter three integers a, b, and c: 4 6 2\n",
            "PEAK\n"
          ]
        }
      ]
    },
    {
      "cell_type": "code",
      "source": [
        "t = int(input ())\n",
        "for _ in range(t):\n",
        "  n= int(input())\n",
        "  for i in range(2*n):\n",
        "    for j in range(2*n):\n",
        "      if (i//2+j//2)%2==0:\n",
        "        print(\"#\",end=\"\")\n",
        "      else:\n",
        "        print(\".\",end=\"\")\n",
        "\n",
        "    print()"
      ],
      "metadata": {
        "colab": {
          "base_uri": "https://localhost:8080/"
        },
        "id": "ACl8Tf_hnC4-",
        "outputId": "b49decb6-fd4f-4974-a8ea-c2dbdec08419"
      },
      "execution_count": 6,
      "outputs": [
        {
          "output_type": "stream",
          "name": "stdout",
          "text": [
            "4\n",
            "1\n",
            "##\n",
            "##\n",
            "2\n",
            "##..\n",
            "##..\n",
            "..##\n",
            "..##\n",
            "3\n",
            "##..##\n",
            "##..##\n",
            "..##..\n",
            "..##..\n",
            "##..##\n",
            "##..##\n",
            "4\n",
            "##..##..\n",
            "##..##..\n",
            "..##..##\n",
            "..##..##\n",
            "##..##..\n",
            "##..##..\n",
            "..##..##\n",
            "..##..##\n"
          ]
        }
      ]
    },
    {
      "cell_type": "code",
      "source": [
        "t = int(input())\n",
        "for _ in range(t):\n",
        "        time_str = input()\n",
        "        h, m = map(int, time_str.split(\":\"))\n",
        "\n",
        "        if h >= 12:\n",
        "            period = \"PM\"\n",
        "            if h > 12:\n",
        "                h = h % 12\n",
        "        else:\n",
        "            period = \"AM\"\n",
        "            if h == 0:\n",
        "                h = 12\n",
        "\n",
        "        print(f\"{h:02}:{m:02} {period}\")"
      ],
      "metadata": {
        "id": "0EWphQnYxffV"
      },
      "execution_count": null,
      "outputs": []
    }
  ]
}