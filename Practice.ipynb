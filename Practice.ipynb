{
  "cells": [
    {
      "cell_type": "markdown",
      "metadata": {
        "id": "view-in-github",
        "colab_type": "text"
      },
      "source": [
        "<a href=\"https://colab.research.google.com/github/labib1910024/Python_basic/blob/main/Practice.ipynb\" target=\"_parent\"><img src=\"https://colab.research.google.com/assets/colab-badge.svg\" alt=\"Open In Colab\"/></a>"
      ]
    },
    {
      "cell_type": "code",
      "execution_count": null,
      "metadata": {
        "colab": {
          "base_uri": "https://localhost:8080/"
        },
        "id": "J-HpgK_yhRfq",
        "outputId": "f9b33ffa-7473-4f0b-9d21-d853bc5d51fd"
      },
      "outputs": [
        {
          "name": "stdout",
          "output_type": "stream",
          "text": [
            "34\n",
            "Even\n"
          ]
        }
      ],
      "source": [
        "# Check even number\n",
        "n = int(input())\n",
        "if n%2==0 :\n",
        "  print(\"Even\")\n",
        "elif n%2!=0 :\n",
        "  print(\"Odd\")"
      ]
    },
    {
      "cell_type": "code",
      "execution_count": null,
      "metadata": {
        "colab": {
          "base_uri": "https://localhost:8080/"
        },
        "id": "x79EXUcfi4ow",
        "outputId": "060d3755-2a4b-4bee-bd35-258cde89cacc"
      },
      "outputs": [
        {
          "name": "stdout",
          "output_type": "stream",
          "text": [
            "2\n",
            "4\n",
            "6\n",
            "8\n"
          ]
        }
      ],
      "source": [
        "# Find even numbers in the range of 0-10\n",
        "\n",
        "n = 10\n",
        "for i in range(n):\n",
        "   if i%2==0 and i!=0 :\n",
        "       print(i)\n"
      ]
    },
    {
      "cell_type": "code",
      "execution_count": null,
      "metadata": {
        "colab": {
          "background_save": true,
          "base_uri": "https://localhost:8080/"
        },
        "id": "pD06Rpvgty4S",
        "outputId": "b19801ef-b781-410d-e0ff-1b9d9c401ddf"
      },
      "outputs": [
        {
          "name": "stdout",
          "output_type": "stream",
          "text": [
            "Prime\n",
            "Not Prime\n"
          ]
        }
      ],
      "source": [
        "#Check prime number\n",
        "import math\n",
        "\n",
        "while True:\n",
        "    n = int(input(\"\"))\n",
        "    x = 0\n",
        "\n",
        "    if n <= 1:\n",
        "        print(\"Not Prime\")\n",
        "    else:\n",
        "        sqrt = int(math.sqrt(n))\n",
        "        for i in range(2, sqrt + 1):\n",
        "            if n%i == 0:\n",
        "                x=x+1\n",
        "                break\n",
        "\n",
        "        if x == 0:\n",
        "            print(\"Prime\")\n",
        "        else:\n",
        "            print(\"Not Prime\")\n"
      ]
    },
    {
      "cell_type": "code",
      "source": [
        "#Find prime numbers in the range of 0-10\n",
        "\n",
        "import math\n",
        "\n",
        "for j in range(1,10):\n",
        "    x = 0\n",
        "\n",
        "    if j <= 1:\n",
        "        print(\"Not Prime\")\n",
        "    else:\n",
        "        sqrt = int(math.sqrt(j))\n",
        "        for i in range(2, sqrt + 1):\n",
        "            if j%i == 0:\n",
        "                x=x+1\n",
        "                break\n",
        "\n",
        "        if x == 0:\n",
        "            print(j)\n",
        "\n",
        "\n"
      ],
      "metadata": {
        "colab": {
          "base_uri": "https://localhost:8080/"
        },
        "id": "rHfCqSpM7jnL",
        "outputId": "3d430dab-a4d4-4a02-b741-6b0d17fd25c1"
      },
      "execution_count": 3,
      "outputs": [
        {
          "output_type": "stream",
          "name": "stdout",
          "text": [
            "Not Prime\n",
            "2\n",
            "3\n",
            "5\n",
            "7\n"
          ]
        }
      ]
    },
    {
      "cell_type": "code",
      "source": [
        "import math\n",
        "\n",
        "primes = []\n",
        "n = 10\n",
        "num = 2\n",
        "\n",
        "while len(primes) < n:\n",
        "    is_prime = True\n",
        "    if num <= 1:\n",
        "        is_prime = False\n",
        "    else:\n",
        "        sqrt = int(math.sqrt(num))\n",
        "        for i in range(2, sqrt + 1):\n",
        "            if num % i == 0:\n",
        "                is_prime = False\n",
        "                break\n",
        "\n",
        "    if is_prime== True:\n",
        "        primes.append(num)\n",
        "\n",
        "    num = num + 1\n",
        "\n",
        "print(primes)\n"
      ],
      "metadata": {
        "colab": {
          "base_uri": "https://localhost:8080/"
        },
        "id": "oSZGTodN88i_",
        "outputId": "70920e28-c89d-48de-da15-512d96648d02"
      },
      "execution_count": 6,
      "outputs": [
        {
          "output_type": "stream",
          "name": "stdout",
          "text": [
            "[2, 3, 5, 7, 11, 13, 17, 19, 23, 29]\n"
          ]
        }
      ]
    }
  ],
  "metadata": {
    "colab": {
      "provenance": [],
      "authorship_tag": "ABX9TyNZGm2CqpuOr+zGAZSL2ScZ",
      "include_colab_link": true
    },
    "kernelspec": {
      "display_name": "Python 3",
      "name": "python3"
    },
    "language_info": {
      "name": "python"
    }
  },
  "nbformat": 4,
  "nbformat_minor": 0
}