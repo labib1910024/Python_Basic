{
  "nbformat": 4,
  "nbformat_minor": 0,
  "metadata": {
    "colab": {
      "provenance": [],
      "authorship_tag": "ABX9TyOPGXkDHEPgbgRE4FR884TL",
      "include_colab_link": true
    },
    "kernelspec": {
      "name": "python3",
      "display_name": "Python 3"
    },
    "language_info": {
      "name": "python"
    }
  },
  "cells": [
    {
      "cell_type": "markdown",
      "metadata": {
        "id": "view-in-github",
        "colab_type": "text"
      },
      "source": [
        "<a href=\"https://colab.research.google.com/github/labib1910024/Python_basic/blob/main/Practice.ipynb\" target=\"_parent\"><img src=\"https://colab.research.google.com/assets/colab-badge.svg\" alt=\"Open In Colab\"/></a>"
      ]
    },
    {
      "cell_type": "code",
      "execution_count": 1,
      "metadata": {
        "colab": {
          "base_uri": "https://localhost:8080/"
        },
        "id": "J-HpgK_yhRfq",
        "outputId": "f9b33ffa-7473-4f0b-9d21-d853bc5d51fd"
      },
      "outputs": [
        {
          "output_type": "stream",
          "name": "stdout",
          "text": [
            "34\n",
            "Even\n"
          ]
        }
      ],
      "source": [
        "# Check even number\n",
        "n = int(input())\n",
        "if n%2==0 :\n",
        "  print(\"Even\")\n",
        "elif n%2!=0 :\n",
        "  print(\"Odd\")"
      ]
    },
    {
      "cell_type": "code",
      "source": [
        "# Find even numbers in the range of 0-10\n",
        "\n",
        "n = 10\n",
        "for i in range(n):\n",
        "   if i%2==0 and i!=0 :\n",
        "       print(i)\n",
        ""
      ],
      "metadata": {
        "colab": {
          "base_uri": "https://localhost:8080/"
        },
        "id": "x79EXUcfi4ow",
        "outputId": "060d3755-2a4b-4bee-bd35-258cde89cacc"
      },
      "execution_count": 8,
      "outputs": [
        {
          "output_type": "stream",
          "name": "stdout",
          "text": [
            "2\n",
            "4\n",
            "6\n",
            "8\n"
          ]
        }
      ]
    },
    {
      "cell_type": "code",
      "source": [
        "#Check prime number\n",
        "import math\n",
        "\n",
        "while True:\n",
        "    n = int(input(\"\"))\n",
        "    x = 0\n",
        "\n",
        "    if n <= 1:\n",
        "        print(\"Not Prime\")\n",
        "    else:\n",
        "        sqrt = int(math.sqrt(n))\n",
        "        for i in range(2, sqrt + 1):\n",
        "            if n%i == 0:\n",
        "                x=x+1\n",
        "                break\n",
        "\n",
        "        if x == 0:\n",
        "            print(\"Prime\")\n",
        "        else:\n",
        "            print(\"Not Prime\")\n"
      ],
      "metadata": {
        "colab": {
          "base_uri": "https://localhost:8080/"
        },
        "id": "pD06Rpvgty4S",
        "outputId": "15fe8978-0690-4a7f-c8e4-773efdc454bd"
      },
      "execution_count": null,
      "outputs": [
        {
          "output_type": "stream",
          "name": "stdout",
          "text": [
            "67\n",
            "Prime\n",
            "78\n",
            "Not Prime\n"
          ]
        }
      ]
    }
  ]
}