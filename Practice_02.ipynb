{
  "nbformat": 4,
  "nbformat_minor": 0,
  "metadata": {
    "colab": {
      "provenance": [],
      "authorship_tag": "ABX9TyPwzSudprIwQG75knYp+A2a",
      "include_colab_link": true
    },
    "kernelspec": {
      "name": "python3",
      "display_name": "Python 3"
    },
    "language_info": {
      "name": "python"
    }
  },
  "cells": [
    {
      "cell_type": "markdown",
      "metadata": {
        "id": "view-in-github",
        "colab_type": "text"
      },
      "source": [
        "<a href=\"https://colab.research.google.com/github/labib1910024/Python_basic/blob/main/Practice_02.ipynb\" target=\"_parent\"><img src=\"https://colab.research.google.com/assets/colab-badge.svg\" alt=\"Open In Colab\"/></a>"
      ]
    },
    {
      "cell_type": "code",
      "execution_count": null,
      "metadata": {
        "colab": {
          "base_uri": "https://localhost:8080/"
        },
        "id": "emVWrFpjghyC",
        "outputId": "f79f0517-a0db-4074-af29-4e474d2e2c7f"
      },
      "outputs": [
        {
          "output_type": "stream",
          "name": "stdout",
          "text": [
            "9 8 1\n",
            "x is the largest\n"
          ]
        }
      ],
      "source": [
        "# Find the largest number\n",
        "x , y, z = map(int,input(\"\").split())\n",
        "\n",
        "if x>y and x>z:\n",
        "  print(\"x is the largest\")\n",
        "\n",
        "elif z>y and x<z:\n",
        "  print(\"z is the largest\")\n",
        "\n",
        "else:\n",
        "  print(\"y is the largest\")"
      ]
    },
    {
      "cell_type": "code",
      "source": [
        "# Find the smallest number\n",
        "x , y, z = map(int,input(\"\").split())\n",
        "\n",
        "if x<y and x<z:\n",
        "  print(\"x is the smallest\")\n",
        "\n",
        "elif y<z and y<x:\n",
        "  print(\"y is the smallest\")\n",
        "\n",
        "else:\n",
        "  print(\"z is the smallest\")"
      ],
      "metadata": {
        "colab": {
          "base_uri": "https://localhost:8080/"
        },
        "id": "aGSFUwpQj3-O",
        "outputId": "dc4c6ee4-c298-4762-fc5d-2e2d7e06596e"
      },
      "execution_count": null,
      "outputs": [
        {
          "output_type": "stream",
          "name": "stdout",
          "text": [
            "6 7 1\n",
            "z is the smallest\n"
          ]
        }
      ]
    },
    {
      "cell_type": "code",
      "source": [
        "list = [1,3,6,7,8]\n",
        "x=0\n",
        "for i in list:\n",
        "  x = x + i\n",
        "\n",
        "print(x)"
      ],
      "metadata": {
        "id": "9mhypjFFpoMw",
        "outputId": "afece9f9-4b0b-44b5-d8d3-74f0d28a9257",
        "colab": {
          "base_uri": "https://localhost:8080/"
        }
      },
      "execution_count": 2,
      "outputs": [
        {
          "output_type": "stream",
          "name": "stdout",
          "text": [
            "25\n"
          ]
        }
      ]
    }
  ]
}