{
  "nbformat": 4,
  "nbformat_minor": 0,
  "metadata": {
    "colab": {
      "provenance": [],
      "authorship_tag": "ABX9TyOvYbi5C3IveN63Na+FBap0",
      "include_colab_link": true
    },
    "kernelspec": {
      "name": "python3",
      "display_name": "Python 3"
    },
    "language_info": {
      "name": "python"
    }
  },
  "cells": [
    {
      "cell_type": "markdown",
      "metadata": {
        "id": "view-in-github",
        "colab_type": "text"
      },
      "source": [
        "<a href=\"https://colab.research.google.com/github/labib1910024/Python_basic/blob/main/Test_07.ipynb\" target=\"_parent\"><img src=\"https://colab.research.google.com/assets/colab-badge.svg\" alt=\"Open In Colab\"/></a>"
      ]
    },
    {
      "cell_type": "code",
      "execution_count": 1,
      "metadata": {
        "colab": {
          "base_uri": "https://localhost:8080/"
        },
        "id": "1_2ls-kEPBPw",
        "outputId": "9a133731-66ed-4c50-9594-c47dc5b671ff"
      },
      "outputs": [
        {
          "output_type": "stream",
          "name": "stdout",
          "text": [
            "7\n",
            "8\n",
            "B is greater than A\n"
          ]
        }
      ],
      "source": [
        "# Find the leargest Number:\n",
        "a = input()\n",
        "b = input()\n",
        "\n",
        "if a>b :\n",
        "  print(\"A is greater than B\")\n",
        "\n",
        "elif a<b :\n",
        "   print(\"B is greater than A\")\n",
        "elif a==b :\n",
        "   print(\"A is equal to B\")\n"
      ]
    },
    {
      "cell_type": "code",
      "source": [
        "a=input()\n",
        "if a==2:\n",
        "    print(\"a is:2\")\n",
        "elif a!=2:\n",
        "\n",
        "     print(\"a is:\",a)"
      ],
      "metadata": {
        "colab": {
          "base_uri": "https://localhost:8080/"
        },
        "id": "P6unj79TQU3U",
        "outputId": "7871a8c1-037b-4131-e361-3f34f1af5bba"
      },
      "execution_count": 2,
      "outputs": [
        {
          "output_type": "stream",
          "name": "stdout",
          "text": [
            "4\n",
            "a is: 4\n"
          ]
        }
      ]
    },
    {
      "cell_type": "code",
      "source": [
        "# A restaurant allows people whose age is more than 18\n",
        "age=int(input())\n",
        "if age<=18:\n",
        "    print(\"Not Allowed\")\n",
        "elif age>18:\n",
        "\n",
        "     print(\"Allowed\")"
      ],
      "metadata": {
        "colab": {
          "base_uri": "https://localhost:8080/"
        },
        "id": "P3nre-uGQaze",
        "outputId": "a2417b09-6e0f-4018-9309-8c7be76e8273"
      },
      "execution_count": 3,
      "outputs": [
        {
          "output_type": "stream",
          "name": "stdout",
          "text": [
            "23\n",
            "Allowed\n"
          ]
        }
      ]
    }
  ]
}