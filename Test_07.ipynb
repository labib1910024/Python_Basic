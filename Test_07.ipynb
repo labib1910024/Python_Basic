{
  "nbformat": 4,
  "nbformat_minor": 0,
  "metadata": {
    "colab": {
      "provenance": [],
      "authorship_tag": "ABX9TyP7wnSBhv1/20z+Rie/UP7Y",
      "include_colab_link": true
    },
    "kernelspec": {
      "name": "python3",
      "display_name": "Python 3"
    },
    "language_info": {
      "name": "python"
    }
  },
  "cells": [
    {
      "cell_type": "markdown",
      "metadata": {
        "id": "view-in-github",
        "colab_type": "text"
      },
      "source": [
        "<a href=\"https://colab.research.google.com/github/labib1910024/Python_basic/blob/main/Test_07.ipynb\" target=\"_parent\"><img src=\"https://colab.research.google.com/assets/colab-badge.svg\" alt=\"Open In Colab\"/></a>"
      ]
    },
    {
      "cell_type": "code",
      "source": [
        "a=input()\n",
        "if a==2:\n",
        "    print(\"a is:2\")\n",
        "elif a!=2:\n",
        "\n",
        "     print(\"a is:\",a)"
      ],
      "metadata": {
        "colab": {
          "base_uri": "https://localhost:8080/"
        },
        "id": "P6unj79TQU3U",
        "outputId": "7871a8c1-037b-4131-e361-3f34f1af5bba"
      },
      "execution_count": 2,
      "outputs": [
        {
          "output_type": "stream",
          "name": "stdout",
          "text": [
            "4\n",
            "a is: 4\n"
          ]
        }
      ]
    },
    {
      "cell_type": "code",
      "source": [
        "# Find the leargest Number:\n",
        "a = input()\n",
        "b = input()\n",
        "\n",
        "if a>b :\n",
        "  print(\"A is greater than B\")\n",
        "\n",
        "elif a<b :\n",
        "   print(\"B is greater than A\")\n",
        "elif a==b :\n",
        "   print(\"A is equal to B\")"
      ],
      "metadata": {
        "colab": {
          "base_uri": "https://localhost:8080/"
        },
        "id": "8cVVXSdsSKZZ",
        "outputId": "04c34fff-4055-4fa6-dda6-b0c1fb46dab6"
      },
      "execution_count": 5,
      "outputs": [
        {
          "output_type": "stream",
          "name": "stdout",
          "text": [
            "6\n",
            "9\n",
            "B is greater than A\n"
          ]
        }
      ]
    },
    {
      "cell_type": "code",
      "source": [
        "# A restaurant allows people whose age is more than 18\n",
        "age=int(input())\n",
        "if age<=18:\n",
        "    print(\"Not Allowed\")\n",
        "elif age>18:\n",
        "\n",
        "     print(\"Allowed\")"
      ],
      "metadata": {
        "colab": {
          "base_uri": "https://localhost:8080/"
        },
        "id": "P3nre-uGQaze",
        "outputId": "a2417b09-6e0f-4018-9309-8c7be76e8273"
      },
      "execution_count": 3,
      "outputs": [
        {
          "output_type": "stream",
          "name": "stdout",
          "text": [
            "23\n",
            "Allowed\n"
          ]
        }
      ]
    }
  ]
}