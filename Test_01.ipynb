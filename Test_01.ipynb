# print something :
print("Hello World!") 


# Check version :
import sys 
print(sys.version)


# Conditional :
if 5>2 :
    print("Five is greater than two")

# Type of variable :
x = 5
y = "Galib"

print(type(x))
print(type(y))


# Multiple variables :
x,y,z = "Orange", "Banana" , "Mango"
a,b,c = 2, 3, 4
print(x)
print(y)
print(z)

print(a)
print(b)
print(c)

# Another way :
fruits = ["Orange", "Banana" , "Mango"]
x,y,z = fruits
print(x)
print(y)
print(z)


# Global variable :
x= "awesome"
def myfunc():
    print("Python is " +x)

myfunc()



# Local variable :
x= "awesome"
def myfunc():
    x= "Awesome"
    print("Python is " +x)

myfunc()
print("Python is " +x)
