# Types of variables :

# String
x = "Hello World"
print(x)
print(type(x))

# Integer
x= 20
print(x)
print(type(x))

# List
x= ["Apple","Banana","Mango"]
print(x)
print(type(x))

# Tuple
x= ("Apple","Banana","Mango")
print(x)
print(type(x))

# Set
x= {"Apple","Banana","Mango"}
print(x)
print(type(x))

# Range
x= range(5)
print(x)
print(type(x))

# Dictionary
x= {"Fruit-01":"Apple","Fruit-02":"Banana","Fruit-03":"Mango"}
print(x)
print(type(x))

# Import random 
import random
print(random.randrange(1, 10))

# Strings are using as array :
a = "Hello World !"
print(a[1])

# Loop through String :
for x in "banana":
  print(x)

# Length of a string
a = "Hello, World!"
print(len(a))
