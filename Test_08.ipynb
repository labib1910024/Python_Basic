{
  "nbformat": 4,
  "nbformat_minor": 0,
  "metadata": {
    "colab": {
      "provenance": [],
      "authorship_tag": "ABX9TyOibonmHrxPi1TmYoXfOqMd",
      "include_colab_link": true
    },
    "kernelspec": {
      "name": "python3",
      "display_name": "Python 3"
    },
    "language_info": {
      "name": "python"
    }
  },
  "cells": [
    {
      "cell_type": "markdown",
      "metadata": {
        "id": "view-in-github",
        "colab_type": "text"
      },
      "source": [
        "<a href=\"https://colab.research.google.com/github/labib1910024/Python_basic/blob/main/Test_08.ipynb\" target=\"_parent\"><img src=\"https://colab.research.google.com/assets/colab-badge.svg\" alt=\"Open In Colab\"/></a>"
      ]
    },
    {
      "cell_type": "code",
      "source": [
        "# Checking a number odd or even\n",
        "num=int(input())\n",
        "if num%2==0:\n",
        "    print (\"Even\")\n",
        "elif num%2!=0:\n",
        "    print (\"Odd\")"
      ],
      "metadata": {
        "colab": {
          "base_uri": "https://localhost:8080/"
        },
        "id": "9R_1eTmy-R4w",
        "outputId": "8641c4aa-3677-48c5-d16c-d874a327206e"
      },
      "execution_count": 4,
      "outputs": [
        {
          "output_type": "stream",
          "name": "stdout",
          "text": [
            "37\n",
            "Odd\n"
          ]
        }
      ]
    },
    {
      "cell_type": "code",
      "source": [
        "#Print only even numbers from a list\n",
        "list1=[10,13,15,2,5,7,19,18]\n",
        "for i in list1:\n",
        "  if i%2==0 :\n",
        "    print(i)"
      ],
      "metadata": {
        "colab": {
          "base_uri": "https://localhost:8080/"
        },
        "id": "VMmhBfDD-Swc",
        "outputId": "f77ad77d-cdd9-40e7-b7a2-70c1112ea6c9"
      },
      "execution_count": 6,
      "outputs": [
        {
          "output_type": "stream",
          "name": "stdout",
          "text": [
            "10\n",
            "2\n",
            "18\n"
          ]
        }
      ]
    },
    {
      "cell_type": "code",
      "source": [
        "#Print only even numbers from a list1 in another list2\n",
        "list1=[10,13,15,2,5,7,19,18]\n",
        "list2=[]\n",
        "\n",
        "for i in list1 :\n",
        "  if i%2==0 :\n",
        "    list2.append(i)\n",
        "\n",
        "list2"
      ],
      "metadata": {
        "colab": {
          "base_uri": "https://localhost:8080/"
        },
        "id": "adil7HNGBua3",
        "outputId": "1c59097b-312f-4200-f7b2-83619f638a89"
      },
      "execution_count": 7,
      "outputs": [
        {
          "output_type": "execute_result",
          "data": {
            "text/plain": [
              "[10, 2, 18]"
            ]
          },
          "metadata": {},
          "execution_count": 7
        }
      ]
    },
    {
      "cell_type": "code",
      "source": [
        "#Create a list of numbers when 2 will be added to even numbers and 2 will be subtracted from odd numbers\n",
        "list1=[10,13,15,2,5,7,19,18]\n",
        "list2=[]\n",
        "\n",
        "for i in list1 :\n",
        "  if i%2==0 :\n",
        "    list2.append(i+2)\n",
        "  elif i%2!=0 :\n",
        "    list2.append(i-2)\n",
        "\n",
        "list2\n"
      ],
      "metadata": {
        "colab": {
          "base_uri": "https://localhost:8080/"
        },
        "id": "VnfCHsZrCRby",
        "outputId": "31f42f3e-7c7c-4060-ead1-8626dd6e4648"
      },
      "execution_count": 8,
      "outputs": [
        {
          "output_type": "execute_result",
          "data": {
            "text/plain": [
              "[12, 11, 13, 4, 3, 5, 17, 20]"
            ]
          },
          "metadata": {},
          "execution_count": 8
        }
      ]
    },
    {
      "cell_type": "code",
      "source": [
        "#Write a program applying acondition of weight and width on a car\n",
        "car_weight=int(input('Enter the weight in kg :'))\n",
        "car_width= int(input('Enter the width in feet :'))\n",
        "\n",
        "if car_weight >100:\n",
        "    print('Take Left')\n",
        "else:\n",
        "    print('Take right')\n",
        "\n",
        "if car_width <5:\n",
        "    print('Take the middle way')\n",
        "else:\n",
        "    print('Return Backward')\n"
      ],
      "metadata": {
        "colab": {
          "base_uri": "https://localhost:8080/"
        },
        "id": "Y5BddfPTs37y",
        "outputId": "86932fcb-a9fc-4001-d8ba-8b39c60efaac"
      },
      "execution_count": 1,
      "outputs": [
        {
          "output_type": "stream",
          "name": "stdout",
          "text": [
            "Enter the weight in kg :55\n",
            "Enter the width in feet :8\n",
            "Take right\n",
            "Return Backward\n"
          ]
        }
      ]
    },
    {
      "cell_type": "code",
      "source": [
        "# Alist given ......\n",
        "#Print the odd elements 3 times multiple in a list\n",
        "##Print the even elements 2 times multiple in a another list\n",
        "\n",
        "list=[1,2,3,4,5,6,7,8,9,10]\n",
        "list_odd=[]\n",
        "list_even=[]\n",
        "for i in list:\n",
        "    if i%2==0:\n",
        "     list_odd.append(i*i*i)\n",
        "    else:\n",
        "     list_even.append(i*i)\n"
      ],
      "metadata": {
        "id": "K3u2QE1Es6DY"
      },
      "execution_count": 3,
      "outputs": []
    },
    {
      "cell_type": "code",
      "source": [
        "list_odd"
      ],
      "metadata": {
        "colab": {
          "base_uri": "https://localhost:8080/"
        },
        "id": "yYdXsr1Ft4Ms",
        "outputId": "666394fe-5472-4103-c90a-2e6aca6fb93b"
      },
      "execution_count": 4,
      "outputs": [
        {
          "output_type": "execute_result",
          "data": {
            "text/plain": [
              "[8, 64, 216, 512, 1000]"
            ]
          },
          "metadata": {},
          "execution_count": 4
        }
      ]
    },
    {
      "cell_type": "code",
      "source": [
        "list_even"
      ],
      "metadata": {
        "colab": {
          "base_uri": "https://localhost:8080/"
        },
        "id": "Jbs2derMt7Lz",
        "outputId": "2b047f60-ac0b-4a2e-afef-896f09dd0e57"
      },
      "execution_count": 5,
      "outputs": [
        {
          "output_type": "execute_result",
          "data": {
            "text/plain": [
              "[1, 9, 25, 49, 81]"
            ]
          },
          "metadata": {},
          "execution_count": 5
        }
      ]
    },
    {
      "cell_type": "code",
      "source": [
        "#Print 1 to n by using while loop\n",
        "\n",
        "n= int(input())\n",
        "i=0\n",
        "while(i<n):\n",
        "  print(i)\n",
        "  i=i+1"
      ],
      "metadata": {
        "colab": {
          "base_uri": "https://localhost:8080/"
        },
        "id": "oza4lL2Zued3",
        "outputId": "a47e23ef-65f0-4e6c-bd30-7ce545d90163"
      },
      "execution_count": 6,
      "outputs": [
        {
          "output_type": "stream",
          "name": "stdout",
          "text": [
            "7\n",
            "0\n",
            "1\n",
            "2\n",
            "3\n",
            "4\n",
            "5\n",
            "6\n"
          ]
        }
      ]
    },
    {
      "cell_type": "code",
      "source": [
        "#Write a program to print first n numbers which is divisoble by 13\n",
        "n=int(input())\n",
        "count=0\n",
        "i=1\n",
        "while(count<n):\n",
        "    if i%13==0:\n",
        "        print(i)\n",
        "        count=count+1\n",
        "    i=i+1\n"
      ],
      "metadata": {
        "colab": {
          "base_uri": "https://localhost:8080/"
        },
        "id": "p5MTagqExIju",
        "outputId": "5f105891-58f4-4976-ca85-b00c32eb58e4"
      },
      "execution_count": 10,
      "outputs": [
        {
          "output_type": "stream",
          "name": "stdout",
          "text": [
            "10\n",
            "13\n",
            "26\n",
            "39\n",
            "52\n",
            "65\n",
            "78\n",
            "91\n",
            "104\n",
            "117\n",
            "130\n"
          ]
        }
      ]
    }
  ]
}