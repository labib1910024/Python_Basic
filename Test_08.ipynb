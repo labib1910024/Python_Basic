{
  "nbformat": 4,
  "nbformat_minor": 0,
  "metadata": {
    "colab": {
      "provenance": [],
      "authorship_tag": "ABX9TyOsAX4wqecYMYxc3RdVYdYt",
      "include_colab_link": true
    },
    "kernelspec": {
      "name": "python3",
      "display_name": "Python 3"
    },
    "language_info": {
      "name": "python"
    }
  },
  "cells": [
    {
      "cell_type": "markdown",
      "metadata": {
        "id": "view-in-github",
        "colab_type": "text"
      },
      "source": [
        "<a href=\"https://colab.research.google.com/github/labib1910024/Python_basic/blob/main/Test_08.ipynb\" target=\"_parent\"><img src=\"https://colab.research.google.com/assets/colab-badge.svg\" alt=\"Open In Colab\"/></a>"
      ]
    },
    {
      "cell_type": "code",
      "execution_count": 1,
      "metadata": {
        "colab": {
          "base_uri": "https://localhost:8080/"
        },
        "id": "3f7h8Lw4S10K",
        "outputId": "5f700183-093c-4c83-837e-f4076ed9ac54"
      },
      "outputs": [
        {
          "output_type": "stream",
          "name": "stdout",
          "text": [
            "9\n",
            "6\n",
            "A is greater than B\n"
          ]
        }
      ],
      "source": [
        "# Find the leargest number\n",
        "a = input()\n",
        "b = input()\n",
        "if a>b :\n",
        "  print(\"A is greater than B\")\n",
        "\n",
        "elif a<b :\n",
        "   print(\"B is greater than A\")\n"
      ]
    }
  ]
}