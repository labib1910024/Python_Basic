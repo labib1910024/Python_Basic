{
  "nbformat": 4,
  "nbformat_minor": 0,
  "metadata": {
    "colab": {
      "provenance": [],
      "authorship_tag": "ABX9TyNv3evF4ZGdAUgH6oV0pKWQ",
      "include_colab_link": true
    },
    "kernelspec": {
      "name": "python3",
      "display_name": "Python 3"
    },
    "language_info": {
      "name": "python"
    }
  },
  "cells": [
    {
      "cell_type": "markdown",
      "metadata": {
        "id": "view-in-github",
        "colab_type": "text"
      },
      "source": [
        "<a href=\"https://colab.research.google.com/github/labib1910024/Python_basic/blob/main/Test_05.ipynb\" target=\"_parent\"><img src=\"https://colab.research.google.com/assets/colab-badge.svg\" alt=\"Open In Colab\"/></a>"
      ]
    },
    {
      "cell_type": "code",
      "execution_count": 1,
      "metadata": {
        "colab": {
          "base_uri": "https://localhost:8080/"
        },
        "id": "mJ8Zr267BQZO",
        "outputId": "533bda01-a0ac-4974-b6b6-88ee120d535d"
      },
      "outputs": [
        {
          "output_type": "execute_result",
          "data": {
            "text/plain": [
              "{'A': {'Roll': 24, 'Sub': {'Phy': 80, 'Math': 85, 'Chem': 90}},\n",
              " 'B': {'Roll': 25, 'Sub': {'Phy': 90, 'Math': 95, 'Chem': 99}},\n",
              " 'C': {'Roll': 26, 'Sub': {'Phy': 90, 'Math': 87, 'Chem': 100}},\n",
              " 'D': {'Roll': 27, 'Sub': {'Phy': 89, 'Math': 98, 'Chem': 92}},\n",
              " 'E': {'Roll': 28, 'Sub': {'Phy': 97, 'Math': 93, 'Chem': 70}}}"
            ]
          },
          "metadata": {},
          "execution_count": 1
        }
      ],
      "source": [
        "Classroom ={\n",
        "             'A':{'Roll': 24,'Sub':{'Phy':80, 'Math':85, 'Chem': 90}},\n",
        "             'B':{'Roll': 25,'Sub':{'Phy':90, 'Math':95, 'Chem': 99}},\n",
        "             'C':{'Roll': 26,'Sub':{'Phy':90, 'Math':87, 'Chem': 100}},\n",
        "             'D':{'Roll': 27,'Sub':{'Phy':89, 'Math':98, 'Chem': 92}},\n",
        "             'E':{'Roll': 28,'Sub':{'Phy':97, 'Math':93, 'Chem': 70}}\n",
        "            }\n",
        "\n",
        "Classroom\n"
      ]
    },
    {
      "cell_type": "code",
      "source": [
        "#Searching\n",
        "Classroom['C']['Sub']['Math']"
      ],
      "metadata": {
        "colab": {
          "base_uri": "https://localhost:8080/"
        },
        "id": "eVVFz13LD1Xi",
        "outputId": "dd16fce2-fbfd-4714-f5eb-8bf0dd55ffc9"
      },
      "execution_count": 2,
      "outputs": [
        {
          "output_type": "execute_result",
          "data": {
            "text/plain": [
              "87"
            ]
          },
          "metadata": {},
          "execution_count": 2
        }
      ]
    },
    {
      "cell_type": "code",
      "source": [
        "#Searching\n",
        "Classroom['A']['Sub']['Chem']"
      ],
      "metadata": {
        "colab": {
          "base_uri": "https://localhost:8080/"
        },
        "id": "I8-MdSd1D4RD",
        "outputId": "8a2f0a17-1466-49d6-e48a-b664a144e4b5"
      },
      "execution_count": 3,
      "outputs": [
        {
          "output_type": "execute_result",
          "data": {
            "text/plain": [
              "90"
            ]
          },
          "metadata": {},
          "execution_count": 3
        }
      ]
    },
    {
      "cell_type": "code",
      "source": [
        "#Add\n",
        "Classroom['F']={'Roll':29,'Sub':{'Phy':96,'Chem':79,'Math':85}}\n",
        "Classroom"
      ],
      "metadata": {
        "colab": {
          "base_uri": "https://localhost:8080/"
        },
        "id": "UoIrniyzD8Sg",
        "outputId": "599a672b-1eef-4236-eb11-48b383fc0e58"
      },
      "execution_count": 4,
      "outputs": [
        {
          "output_type": "execute_result",
          "data": {
            "text/plain": [
              "{'A': {'Roll': 24, 'Sub': {'Phy': 80, 'Math': 85, 'Chem': 90}},\n",
              " 'B': {'Roll': 25, 'Sub': {'Phy': 90, 'Math': 95, 'Chem': 99}},\n",
              " 'C': {'Roll': 26, 'Sub': {'Phy': 90, 'Math': 87, 'Chem': 100}},\n",
              " 'D': {'Roll': 27, 'Sub': {'Phy': 89, 'Math': 98, 'Chem': 92}},\n",
              " 'E': {'Roll': 28, 'Sub': {'Phy': 97, 'Math': 93, 'Chem': 70}},\n",
              " 'F': {'Roll': 29, 'Sub': {'Phy': 96, 'Chem': 79, 'Math': 85}}}"
            ]
          },
          "metadata": {},
          "execution_count": 4
        }
      ]
    },
    {
      "cell_type": "code",
      "source": [
        "Classroom1= {\n",
        "    'A': {'Roll': 24, 'Sub': {'Phy': 80, 'Chem': 89, 'Math': 90}},\n",
        "    'B': {'Roll': 25, 'Sub': {'Phy': 89, 'Chem': 83, 'Math': 100}},\n",
        "    'C': {'Roll': 26, 'Sub': {'Phy': 70, 'Chem': 79, 'Math': 80}}\n",
        "}\n",
        "Classroom2= {\n",
        "    'D': {'Roll': 27, 'Sub': {'Phy': 60, 'Chem': 59, 'Math': 70}},\n",
        "    'E': {'Roll': 28, 'Sub': {'Phy': 86, 'Chem': 99, 'Math': 95}},\n",
        "    'F': {'Roll': 29, 'Sub': {'Phy': 96, 'Chem': 79, 'Math': 85}}\n",
        "}"
      ],
      "metadata": {
        "id": "yEzLfi5UGbfq"
      },
      "execution_count": 6,
      "outputs": []
    },
    {
      "cell_type": "code",
      "source": [
        "Classroom1.update(Classroom2)\n",
        "Classroom1"
      ],
      "metadata": {
        "colab": {
          "base_uri": "https://localhost:8080/"
        },
        "id": "AR8fAUVCGc2r",
        "outputId": "3d382ccc-e155-4f30-88b8-0c43c0dddf63"
      },
      "execution_count": 7,
      "outputs": [
        {
          "output_type": "execute_result",
          "data": {
            "text/plain": [
              "{'A': {'Roll': 24, 'Sub': {'Phy': 80, 'Chem': 89, 'Math': 90}},\n",
              " 'B': {'Roll': 25, 'Sub': {'Phy': 89, 'Chem': 83, 'Math': 100}},\n",
              " 'C': {'Roll': 26, 'Sub': {'Phy': 70, 'Chem': 79, 'Math': 80}},\n",
              " 'D': {'Roll': 27, 'Sub': {'Phy': 60, 'Chem': 59, 'Math': 70}},\n",
              " 'E': {'Roll': 28, 'Sub': {'Phy': 86, 'Chem': 99, 'Math': 95}},\n",
              " 'F': {'Roll': 29, 'Sub': {'Phy': 96, 'Chem': 79, 'Math': 85}}}"
            ]
          },
          "metadata": {},
          "execution_count": 7
        }
      ]
    }
  ]
}